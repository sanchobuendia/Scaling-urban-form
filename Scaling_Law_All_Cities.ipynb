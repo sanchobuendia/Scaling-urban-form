{
 "cells": [
  {
   "cell_type": "code",
   "execution_count": null,
   "metadata": {},
   "outputs": [],
   "source": [
    "from sklearn.linear_model import LinearRegression\n",
    "import statsmodels.api as sm\n",
    "from scipy.stats import kurtosis\n",
    "from scipy.stats import skew\n",
    "\n",
    "import pandas as pd\n",
    "import numpy as np\n",
    "import math\n",
    "import matplotlib.pyplot as plt\n",
    "from scipy.optimize import curve_fit\n",
    "from scipy.stats import powerlaw\n",
    "import statistics\n",
    "\n",
    "pd.set_option('display.max_rows', 500)\n",
    "pd.set_option('display.max_columns', 500)\n",
    "pd.set_option('display.width', 1000)"
   ]
  },
  {
   "cell_type": "markdown",
   "metadata": {},
   "source": [
    "# Read the dataset"
   ]
  },
  {
   "cell_type": "code",
   "execution_count": null,
   "metadata": {},
   "outputs": [],
   "source": [
    "df_cod = pd.read_excel('municipios_Salurbal.xlsx')\n",
    "\n",
    "Codebook = pd.read_excel('BEC_Codebook_20191031.xlsx')\n",
    "L1AD = pd.read_csv('BEC_L1AD_20191031.csv')\n",
    "L1UX = pd.read_csv('BEC_L1UX_20191031.csv')\n",
    "L2 = pd.read_csv('BEC_L2_20191031.csv')"
   ]
  },
  {
   "cell_type": "markdown",
   "metadata": {},
   "source": [
    "Level 1 is the city and level 2 is the subcity \n",
    "\n",
    "The L1AD is the city level\n",
    "\n",
    "The L1UX is the urban extent boundary\n",
    "\n",
    "L2 = is the subcity"
   ]
  },
  {
   "cell_type": "code",
   "execution_count": null,
   "metadata": {},
   "outputs": [],
   "source": [
    "### Choice of variables"
   ]
  },
  {
   "cell_type": "code",
   "execution_count": null,
   "metadata": {},
   "outputs": [],
   "source": [
    "suma_l1ad = L1AD[['BECTUAREAL1AD', 'BECPCTURBANL1AD', 'BECNURBPTCHL1AD', 'BECPTCHDENSL1AD', 'BECAVGPTCHAREAL1AD',\n",
    "                  'BECCVPTCHAREAL1AD', 'BECAWMNSHPINDXL1AD', 'BECAWMNNNGHL1AD', 'BECEDGDENSL1AD', \n",
    "                  'BECEFFMESHSIZEL1AD', 'BECAWAVGPTCHAREAL1AD', 'BECAWEDGDENSL1AD',\n",
    "                  'BECPOPDENSL1AD', 'BECPOPCONCL1AD', 'BECERRORWPL1AD', 'BECMAXNDVINW2000L1AD',\n",
    "                  'BECMEDNDVINW2000L1AD', 'BECMAXNDVINW2001L1AD', 'BECMEDNDVINW2001L1AD',\n",
    "                  'BECMAXNDVINW2002L1AD', 'BECMEDNDVINW2002L1AD', 'BECMAXNDVINW2003L1AD', \n",
    "                  'BECMEDNDVINW2003L1AD', 'BECMAXNDVINW2004L1AD', 'BECMEDNDVINW2004L1AD', \n",
    "                  'BECMAXNDVINW2005L1AD', 'BECMEDNDVINW2005L1AD', 'BECMAXNDVINW2006L1AD', \n",
    "                  'BECMEDNDVINW2006L1AD', 'BECMAXNDVINW2007L1AD', 'BECMEDNDVINW2007L1AD', \n",
    "                  'BECMAXNDVINW2008L1AD', 'BECMEDNDVINW2008L1AD', 'BECMAXNDVINW2009L1AD', \n",
    "                  'BECMEDNDVINW2009L1AD', 'BECMAXNDVINW2010L1AD', 'BECMEDNDVINW2010L1AD', \n",
    "                  'BECMAXNDVINW2011L1AD', 'BECMEDNDVINW2011L1AD', 'BECMAXNDVINW2012L1AD',\n",
    "                  'BECMEDNDVINW2012L1AD', 'BECMAXNDVINW2013L1AD',\n",
    "                  'BECMEDNDVINW2013L1AD', 'BECMAXNDVINW2014L1AD', 'BECMEDNDVINW2014L1AD', \n",
    "                  'BECMAXNDVINW2015L1AD', 'BECMEDNDVINW2015L1AD', 'BECMAXNDVINW2016L1AD', \n",
    "                  'BECMEDNDVINW2016L1AD', 'BECPRSBRTL1AD', 'BECBRTLNGTHL1AD', 'BECNUMBRTUSL1AD', \n",
    "                  'BECBRTPRCTRIPL1AD', 'BECSUPBRTL1AD', 'BECDEMBRTL1AD', 'BECPAYCAPBRTL1AD', \n",
    "                  'BECPRSSUBWAYL1AD', 'BECSUBWAYLNGTHL1AD', 'BECSUBWAYPRCTRIPL1AD', \n",
    "                  'BECSUPSUBL1AD', 'BECPAYCAPSUBL1AD', 'BECPRSAERTRAML1AD', 'BECAERTRAMLNGTHL1AD',\n",
    "                  'BECBYLANELNGTHL1AD', 'BECSUPBIKEFACL1AD', 'BECOPSTTSYSLNGTHL1AD',\n",
    "                  'BECGASPRICEL1AD', 'BECGASPRICEADJL1AD', 'BECADAREAL1AD', 'BECADCRCTYAVGL1AD',\n",
    "                  'BECADINTDENS3L1AD', 'BECADINTDENS4L1AD', 'BECADINTDENSL1AD', 'BECADLRDENSL1AD',\n",
    "                  'BECADSTTDENSL1AD', 'BECADSTTPNODEAVGL1AD', 'BECADSTTPNODESDL1AD', 'BECADSTTLGAVGL1AD',\n",
    "                  'BECAREAPARKSL1AD', 'BECDENSPARKSL1AD', 'BECMINWAGEL1AD', 'BECURBLANDPL1AD', 'BECSTTPL1AD']]"
   ]
  },
  {
   "cell_type": "code",
   "execution_count": null,
   "metadata": {},
   "outputs": [],
   "source": [
    "suma_l1ux = L1UX[['BECTUAREAL1UX', 'BECPCTURBANL1UX', 'BECNURBPTCHL1UX', 'BECPTCHDENSL1UX','BECAVGPTCHAREAL1UX', 'BECAWAVGPTCHAREAL1UX',\n",
    "         'BECEFFMESHSIZEL1UX', 'BECCVPTCHAREAL1UX', 'BECAWMNSHPINDXL1UX', 'BECAWMNNNGHL1UX', 'BECEDGDENSL1UX',\n",
    "         'BECAWEDGDENSL1UX', 'BECADAREAL1UX', 'BECADSTTDENSL1UX', 'BECADLRDENSL1UX', 'BECADINTDENSL1UX', 'BECADINTDENS3L1UX',\n",
    "         'BECADINTDENS4L1UX', 'BECADSTTPNODEAVGL1UX', 'BECADSTTPNODESDL1UX', 'BECADSTTLGAVGL1UX', 'BECADCRCTYAVGL1UX']]"
   ]
  },
  {
   "cell_type": "code",
   "execution_count": null,
   "metadata": {},
   "outputs": [],
   "source": [
    "suma_l2 = L2[['BECTUAREAL2', 'BECPCTURBANL2', 'BECNURBPTCHL2', 'BECPTCHDENSL2','BECAVGPTCHAREAL2', 'BECAWAVGPTCHAREAL2',\n",
    "         'BECEFFMESHSIZEL2', 'BECCVPTCHAREAL2', 'BECAWMNSHPINDXL2', 'BECAWMNNNGHL2', 'BECEDGDENSL2',\n",
    "         'BECAWEDGDENSL2', 'BECADAREAL2', 'BECADSTTDENSL2', 'BECADLRDENSL2', 'BECADINTDENSL2', 'BECADINTDENS3L2',\n",
    "         'BECADINTDENS4L2', 'BECADSTTPNODEAVGL2', 'BECADSTTPNODESDL2', 'BECADSTTLGAVGL2', 'BECADCRCTYAVGL2']]"
   ]
  },
  {
   "cell_type": "code",
   "execution_count": null,
   "metadata": {},
   "outputs": [],
   "source": [
    "siglas = ['AR', 'BR', 'MX', 'CL', 'PE', 'CO', 'CR', 'GT', 'SV', 'NI', 'PA']"
   ]
  },
  {
   "cell_type": "code",
   "execution_count": null,
   "metadata": {},
   "outputs": [],
   "source": [
    "names = ['BECTUAREAL1AD', 'BECPCTURBANL1AD', 'BECNURBPTCHL1AD', 'BECPTCHDENSL1AD', 'BECAVGPTCHAREAL1AD',\n",
    "                  'BECCVPTCHAREAL1AD', 'BECAWMNSHPINDXL1AD', 'BECAWMNNNGHL1AD', 'BECEDGDENSL1AD', \n",
    "                  'BECEFFMESHSIZEL1AD', 'BECAWAVGPTCHAREAL1AD', 'BECAWEDGDENSL1AD',\n",
    "                  'BECPOPDENSL1AD', 'BECPOPCONCL1AD', 'BECERRORWPL1AD', 'BECMAXNDVINW2000L1AD',\n",
    "                  'BECMEDNDVINW2000L1AD', 'BECMAXNDVINW2001L1AD', 'BECMEDNDVINW2001L1AD',\n",
    "                  'BECMAXNDVINW2002L1AD', 'BECMEDNDVINW2002L1AD', 'BECMAXNDVINW2003L1AD', \n",
    "                  'BECMEDNDVINW2003L1AD', 'BECMAXNDVINW2004L1AD', 'BECMEDNDVINW2004L1AD', \n",
    "                  'BECMAXNDVINW2005L1AD', 'BECMEDNDVINW2005L1AD', 'BECMAXNDVINW2006L1AD', \n",
    "                  'BECMEDNDVINW2006L1AD', 'BECMAXNDVINW2007L1AD', 'BECMEDNDVINW2007L1AD', \n",
    "                  'BECMAXNDVINW2008L1AD', 'BECMEDNDVINW2008L1AD', 'BECMAXNDVINW2009L1AD', \n",
    "                  'BECMEDNDVINW2009L1AD', 'BECMAXNDVINW2010L1AD', 'BECMEDNDVINW2010L1AD', \n",
    "                  'BECMAXNDVINW2011L1AD', 'BECMEDNDVINW2011L1AD', 'BECMAXNDVINW2012L1AD',\n",
    "                  'BECMEDNDVINW2012L1AD', 'BECMAXNDVINW2013L1AD',\n",
    "                  'BECMEDNDVINW2013L1AD', 'BECMAXNDVINW2014L1AD', 'BECMEDNDVINW2014L1AD', \n",
    "                  'BECMAXNDVINW2015L1AD', 'BECMEDNDVINW2015L1AD', 'BECMAXNDVINW2016L1AD', \n",
    "                  'BECMEDNDVINW2016L1AD', 'BECPRSBRTL1AD', 'BECBRTLNGTHL1AD', 'BECNUMBRTUSL1AD', \n",
    "                  'BECBRTPRCTRIPL1AD', 'BECSUPBRTL1AD', 'BECDEMBRTL1AD', 'BECPAYCAPBRTL1AD', \n",
    "                  'BECPRSSUBWAYL1AD', 'BECSUBWAYLNGTHL1AD', 'BECSUBWAYPRCTRIPL1AD', \n",
    "                  'BECSUPSUBL1AD', 'BECPAYCAPSUBL1AD', 'BECPRSAERTRAML1AD', 'BECAERTRAMLNGTHL1AD',\n",
    "                  'BECBYLANELNGTHL1AD', 'BECSUPBIKEFACL1AD', 'BECOPSTTSYSLNGTHL1AD',\n",
    "                  'BECGASPRICEL1AD', 'BECGASPRICEADJL1AD', 'BECADAREAL1AD', 'BECADCRCTYAVGL1AD',\n",
    "                  'BECADINTDENS3L1AD', 'BECADINTDENS4L1AD', 'BECADINTDENSL1AD', 'BECADLRDENSL1AD',\n",
    "                  'BECADSTTDENSL1AD', 'BECADSTTPNODEAVGL1AD', 'BECADSTTPNODESDL1AD', 'BECADSTTLGAVGL1AD',\n",
    "                  'BECAREAPARKSL1AD', 'BECDENSPARKSL1AD', 'BECMINWAGEL1AD', 'BECURBLANDPL1AD', 'BECSTTPL1AD']"
   ]
  },
  {
   "cell_type": "markdown",
   "metadata": {},
   "source": [
    "# L1AD"
   ]
  },
  {
   "cell_type": "code",
   "execution_count": null,
   "metadata": {},
   "outputs": [],
   "source": [
    "L1AD = L1AD.fillna(L1AD.mean())\n",
    "for i in range(len(L1AD)):\n",
    "    if (L1AD.iloc[i,0] != 'BR'):\n",
    "        L1AD.iloc[i,0] = 'Other Cities'"
   ]
  },
  {
   "cell_type": "code",
   "execution_count": null,
   "metadata": {},
   "outputs": [],
   "source": [
    "# call the function\n",
    "scaling_L1(df)"
   ]
  },
  {
   "cell_type": "markdown",
   "metadata": {},
   "source": [
    "# L1UX"
   ]
  },
  {
   "cell_type": "code",
   "execution_count": null,
   "metadata": {},
   "outputs": [],
   "source": [
    "L1UX.isnull().sum().sort_values(ascending=False);\n",
    "L1UX = L1UX.fillna(L1UX.mean());"
   ]
  },
  {
   "cell_type": "code",
   "execution_count": null,
   "metadata": {},
   "outputs": [],
   "source": [
    "n_L1UX = ['BECTUAREAL1UX', 'BECPCTURBANL1UX', 'BECNURBPTCHL1UX', 'BECPTCHDENSL1UX','BECAVGPTCHAREAL1UX', 'BECAWAVGPTCHAREAL1UX',\n",
    "         'BECEFFMESHSIZEL1UX', 'BECCVPTCHAREAL1UX', 'BECAWMNSHPINDXL1UX', 'BECAWMNNNGHL1UX', 'BECEDGDENSL1UX',\n",
    "         'BECAWEDGDENSL1UX', 'BECADAREAL1UX', 'BECADSTTDENSL1UX', 'BECADLRDENSL1UX', 'BECADINTDENSL1UX', 'BECADINTDENS3L1UX',\n",
    "         'BECADINTDENS4L1UX', 'BECADSTTPNODEAVGL1UX', 'BECADSTTPNODESDL1UX', 'BECADSTTLGAVGL1UX', 'BECADCRCTYAVGL1UX']"
   ]
  },
  {
   "cell_type": "code",
   "execution_count": null,
   "metadata": {},
   "outputs": [],
   "source": [
    "for i in range(len(L1UX)):\n",
    "    if (L1UX.iloc[i,0] != 'BR'):\n",
    "        L1UX.iloc[i,0] = 'Other Cities'"
   ]
  },
  {
   "cell_type": "code",
   "execution_count": null,
   "metadata": {},
   "outputs": [],
   "source": [
    "# call the function\n",
    "scaling_l1ux(df)"
   ]
  },
  {
   "cell_type": "markdown",
   "metadata": {},
   "source": [
    "# L2"
   ]
  },
  {
   "cell_type": "code",
   "execution_count": null,
   "metadata": {},
   "outputs": [],
   "source": [
    "L2.isnull().sum().sort_values(ascending=False);\n",
    "L2 = L2.fillna(L2.mean());"
   ]
  },
  {
   "cell_type": "code",
   "execution_count": null,
   "metadata": {},
   "outputs": [],
   "source": [
    "n_L2 = ['BECTUAREAL2', 'BECPCTURBANL2', 'BECNURBPTCHL2', 'BECPTCHDENSL2','BECAVGPTCHAREAL2', 'BECAWAVGPTCHAREAL2',\n",
    "         'BECEFFMESHSIZEL2', 'BECCVPTCHAREAL2', 'BECAWMNSHPINDXL2', 'BECAWMNNNGHL2', 'BECEDGDENSL2',\n",
    "         'BECAWEDGDENSL2', 'BECADAREAL2', 'BECADSTTDENSL2', 'BECADLRDENSL2', 'BECADINTDENSL2', 'BECADINTDENS3L2',\n",
    "         'BECADINTDENS4L2', 'BECADSTTPNODEAVGL2', 'BECADSTTPNODESDL2', 'BECADSTTLGAVGL2', 'BECADCRCTYAVGL2']"
   ]
  },
  {
   "cell_type": "code",
   "execution_count": null,
   "metadata": {},
   "outputs": [],
   "source": [
    "for i in range(len(L2)):\n",
    "    if (L2.iloc[i,0] != 'BR'):\n",
    "        L2.iloc[i,0] = 'Other Cities'"
   ]
  },
  {
   "cell_type": "code",
   "execution_count": null,
   "metadata": {},
   "outputs": [],
   "source": [
    "# call functions\n",
    "scaling_l2(df)"
   ]
  },
  {
   "cell_type": "code",
   "execution_count": null,
   "metadata": {},
   "outputs": [],
   "source": [
    "# Final results"
   ]
  },
  {
   "cell_type": "code",
   "execution_count": null,
   "metadata": {},
   "outputs": [],
   "source": [
    "result = pd.merge(data_L1AD,\n",
    "                  data_L1UX,\n",
    "                  on='Y', how = 'left')\n",
    "result = pd.merge(result,\n",
    "                  data_L2,\n",
    "                  on='Y', how = 'left')"
   ]
  },
  {
   "cell_type": "code",
   "execution_count": null,
   "metadata": {},
   "outputs": [],
   "source": [
    "result.to_csv('.../All_Cities0.csv')"
   ]
  },
  {
   "cell_type": "code",
   "execution_count": null,
   "metadata": {},
   "outputs": [],
   "source": [
    "data_L1ADt = data_L1AD.sort_values(r'$\\beta_{L1AD}$', ascending=False)\n",
    "data_L1ADt"
   ]
  },
  {
   "cell_type": "code",
   "execution_count": null,
   "metadata": {},
   "outputs": [],
   "source": [
    "data_L1UXt = data_L1UX.sort_values(r'$\\beta_{L1UX}$', ascending=False)\n",
    "data_L1UXt"
   ]
  },
  {
   "cell_type": "code",
   "execution_count": null,
   "metadata": {},
   "outputs": [],
   "source": [
    "data_L2t = data_L2.sort_values(r'$\\beta_{L2}$', ascending=False)\n",
    "data_L2t"
   ]
  }
 ],
 "metadata": {
  "kernelspec": {
   "display_name": "Python 3",
   "language": "python",
   "name": "python3"
  },
  "language_info": {
   "codemirror_mode": {
    "name": "ipython",
    "version": 3
   },
   "file_extension": ".py",
   "mimetype": "text/x-python",
   "name": "python",
   "nbconvert_exporter": "python",
   "pygments_lexer": "ipython3",
   "version": "3.9.7"
  }
 },
 "nbformat": 4,
 "nbformat_minor": 4
}
